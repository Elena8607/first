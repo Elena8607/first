{
 "cells": [
  {
   "cell_type": "markdown",
   "metadata": {},
   "source": [
    "**Задание 1**. Даны 2 строки: *long_phrase* и *short_phrase*. \n",
    "Напишите код, который проверяет действительно ли длинная фраза *long_phrase* длиннее короткой *short_phrase*. И выводит *True* или *False* в зависимости от результата сравнения."
   ]
  },
  {
   "cell_type": "code",
   "execution_count": 2,
   "metadata": {},
   "outputs": [],
   "source": [
    "long_phrase = 'Насколько проще было бы писать программы, если бы не заказчики'\n",
    "short_phrase = '640Кб должно хватить для любых задач. Билл Гейтс (по легенде)'"
   ]
  },
  {
   "cell_type": "code",
   "execution_count": 3,
   "metadata": {},
   "outputs": [
    {
     "name": "stdout",
     "output_type": "stream",
     "text": [
      "long_phrase is longer than short_phrase: True\n"
     ]
    }
   ],
   "source": [
    "print('long_phrase is longer than short_phrase:', len(long_phrase) > len(short_phrase))"
   ]
  },
  {
   "cell_type": "markdown",
   "metadata": {},
   "source": [
    "**Задание 2**. Дано значение объема файла в байтах (*в мегабайте 2^20 байт*). Напишите перевод этого значения в мегабайты в формате: \"*Объем файла равен 213.68Mb*\"."
   ]
  },
  {
   "cell_type": "code",
   "execution_count": 10,
   "metadata": {},
   "outputs": [
    {
     "name": "stdout",
     "output_type": "stream",
     "text": [
      "Введите объем файла в байтах1024\n",
      "Объем файла равен 0.0009765625 Mb\n"
     ]
    }
   ],
   "source": [
    " byte= int(input('Введите объем файла в байтах'))\n",
    "    \n",
    " print('Объем файла равен', byte / (2 ** 20), 'Mb')\n"
   ]
  },
  {
   "cell_type": "markdown",
   "metadata": {},
   "source": [
    "**Задание 3**. Разработать приложение для определения знака зодиака по дате рождения. Пример:\n",
    "\n",
    "Введите месяц: март\n",
    "\n",
    "Введите число: 6\n",
    "\n",
    "Вывод:\n",
    "Рыбы"
   ]
  },
  {
   "cell_type": "code",
   "execution_count": 20,
   "metadata": {},
   "outputs": [
    {
     "name": "stdout",
     "output_type": "stream",
     "text": [
      "Введите месяц: сентябрь\n",
      "Введите число: 21\n",
      "Вывод: Дева\n"
     ]
    }
   ],
   "source": [
    "month = input('Введите месяц: ')\n",
    "day = int(input('Введите число: '))\n",
    "if month == 'январь':\n",
    "    if day > 19:\n",
    "        print ('Вывод: Водолей')\n",
    "    else:\n",
    "        print ('Вывод: Козерог')\n",
    "elif month == 'февраль':\n",
    "    if day > 18:\n",
    "        print ('Вывод: Рыбы')\n",
    "    else:\n",
    "        print ('Вывод: Водолей')\n",
    "elif month == 'март':\n",
    "    if day > 20:\n",
    "        print ('Вывод: Овен')\n",
    "    else:\n",
    "        print ('Вывод: Рыбы')\n",
    "elif month == 'апрель':\n",
    "    if day > 20:\n",
    "        print ('Вывод: Телец')\n",
    "    else:\n",
    "        print ('Вывод: Овен') \n",
    "elif month == 'май':\n",
    "    if day > 20:\n",
    "        print ('Вывод: Близнецы')\n",
    "    else:\n",
    "        print ('Вывод: Телец') \n",
    "elif month == 'июнь':\n",
    "    if day > 20:\n",
    "        print ('Вывод: Рак')\n",
    "    else:\n",
    "        print ('Вывод: Близнецы') \n",
    "elif month == 'июль':\n",
    "    if day > 22:\n",
    "        print ('Вывод: Лев')\n",
    "    else:\n",
    "        print ('Вывод: Рак') \n",
    "elif month == 'август':\n",
    "    if day > 22:\n",
    "        print ('Вывод: Дева')\n",
    "    else:\n",
    "        print ('Вывод: Лев')\n",
    "elif month == 'сентябрь':\n",
    "    if day > 23:\n",
    "        print ('Вывод: Весы')\n",
    "    else:\n",
    "        print ('Вывод: Дева')\n",
    "elif month == 'октябрь':\n",
    "    if day > 23:\n",
    "        print ('Вывод: Скорпион')\n",
    "    else:\n",
    "        print ('Вывод: Весы')\n",
    "elif month == 'ноябрь':\n",
    "    if day > 21:\n",
    "        print ('Вывод: Стрелец')\n",
    "    else:\n",
    "        print ('Вывод: Скорпион')\n",
    "elif month == 'декабрь':\n",
    "    if day > 21:\n",
    "        print ('Вывод: Козерог')\n",
    "    else:\n",
    "        print ('Вывод: Стрелец')\n",
    "        \n",
    "else:\n",
    "     print ('Вывод: неизвестный месяц')\n"
   ]
  },
  {
   "cell_type": "markdown",
   "metadata": {},
   "source": [
    "**Задание 4**. Нужно разработать приложение для финансового планирования.\n",
    "Приложение учитывает сколько уходит на ипотеку, \"на жизнь\" и сколько нужно отложить на пенсию.\n",
    "Пользователь вводит:\n",
    "- заработанную плату в месяц.\n",
    "- сколько процентов от ЗП уходит на ипотеку.\n",
    "- сколько процентов от ЗП уходит \"на жизнь\".\n",
    "- сколько раз приходит премия в год.\n",
    "\n",
    "Остальная часть заработанной платы откладывается на пенсию.\n",
    "\n",
    "Также пользователю приходит премия в размере зарплаты, от которой половина уходит на отпуск, а вторая половина откладывается.\n",
    "\n",
    "Программа должна учитывать сколько премий было в год.\n",
    "\n",
    "Нужно вывести сколько денег тратит пользователь на ипотеку и сколько он накопит за год.\n",
    "\n",
    "Пример:\n",
    "\n",
    "Введите заработанную плату в месяц: 100000\n",
    "\n",
    "Введите сколько процентов уходит на ипотеку: 30\n",
    "\n",
    "Введите сколько процентов уходит на жизнь: 50\n",
    "\n",
    "Введите количество премий за год: 2\n",
    "\n",
    "Вывод:\n",
    "На ипотеку было потрачено: 360000 рублей\n",
    "Было накоплено: 340000 рублей"
   ]
  },
  {
   "cell_type": "code",
   "execution_count": 17,
   "metadata": {},
   "outputs": [
    {
     "name": "stdout",
     "output_type": "stream",
     "text": [
      "Введите заработанную плату в месяц: 30000\n",
      "Введите сколько процентов уходит на ипотеку: 12\n",
      "Введите сколько процентов уходит на жизнь: 111\n",
      "Введите количество премий за год: 4\n",
      "Проценты введены некорректно\n"
     ]
    }
   ],
   "source": [
    "salary = int(input('Введите заработанную плату в месяц: '))\n",
    "perc_mortg = int(input('Введите сколько процентов уходит на ипотеку: '))\n",
    "perc_life = int(input('Введите сколько процентов уходит на жизнь: '))\n",
    "award = int(input('Введите количество премий за год: '))\n",
    "\n",
    "total_award  = award * salary\n",
    "mortg = salary * perc_mortg * 12 / 100\n",
    "retirement = total_award / 2 + salary * (100 - perc_mortg - perc_life )*12 / 100\n",
    "if perc_mortg + perc_life > 100:\n",
    "    print ('Проценты введены некорректно')\n",
    "else:\n",
    "    print ('На ипотеку было потрачено: ', mortg, 'рублей. Было накоплено: ', retirement,'рублей' )"
   ]
  },
  {
   "cell_type": "code",
   "execution_count": null,
   "metadata": {},
   "outputs": [],
   "source": []
  }
 ],
 "metadata": {
  "kernelspec": {
   "display_name": "Python 3",
   "language": "python",
   "name": "python3"
  },
  "language_info": {
   "codemirror_mode": {
    "name": "ipython",
    "version": 3
   },
   "file_extension": ".py",
   "mimetype": "text/x-python",
   "name": "python",
   "nbconvert_exporter": "python",
   "pygments_lexer": "ipython3",
   "version": "3.7.6"
  }
 },
 "nbformat": 4,
 "nbformat_minor": 2
}
